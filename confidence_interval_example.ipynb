{
 "cells": [
  {
   "cell_type": "code",
   "execution_count": 1,
   "metadata": {},
   "outputs": [],
   "source": [
    "import pandas as pd\n",
    "import numpy as np\n",
    "\n",
    "np.random.seed(42)\n",
    "\n",
    "coffee_full = pd.read_csv('coffee_dataset.csv') #the whole population\n",
    "coffee_red = coffee_full.sample(200) #reduced data, in order to simulate the sample someone would gather for the population"
   ]
  },
  {
   "cell_type": "code",
   "execution_count": 2,
   "metadata": {},
   "outputs": [
    {
     "data": {
      "text/plain": [
       "(200, 4)"
      ]
     },
     "execution_count": 2,
     "metadata": {},
     "output_type": "execute_result"
    }
   ],
   "source": [
    "coffee_red.shape"
   ]
  },
  {
   "cell_type": "code",
   "execution_count": 3,
   "metadata": {},
   "outputs": [
    {
     "data": {
      "text/html": [
       "<div>\n",
       "<style scoped>\n",
       "    .dataframe tbody tr th:only-of-type {\n",
       "        vertical-align: middle;\n",
       "    }\n",
       "\n",
       "    .dataframe tbody tr th {\n",
       "        vertical-align: top;\n",
       "    }\n",
       "\n",
       "    .dataframe thead th {\n",
       "        text-align: right;\n",
       "    }\n",
       "</style>\n",
       "<table border=\"1\" class=\"dataframe\">\n",
       "  <thead>\n",
       "    <tr style=\"text-align: right;\">\n",
       "      <th></th>\n",
       "      <th>user_id</th>\n",
       "      <th>age</th>\n",
       "      <th>drinks_coffee</th>\n",
       "      <th>height</th>\n",
       "    </tr>\n",
       "  </thead>\n",
       "  <tbody>\n",
       "    <tr>\n",
       "      <th>2402</th>\n",
       "      <td>2874</td>\n",
       "      <td>&lt;21</td>\n",
       "      <td>True</td>\n",
       "      <td>64.357154</td>\n",
       "    </tr>\n",
       "    <tr>\n",
       "      <th>2864</th>\n",
       "      <td>3670</td>\n",
       "      <td>&gt;=21</td>\n",
       "      <td>True</td>\n",
       "      <td>66.859636</td>\n",
       "    </tr>\n",
       "    <tr>\n",
       "      <th>2167</th>\n",
       "      <td>7441</td>\n",
       "      <td>&lt;21</td>\n",
       "      <td>False</td>\n",
       "      <td>66.659561</td>\n",
       "    </tr>\n",
       "    <tr>\n",
       "      <th>507</th>\n",
       "      <td>2781</td>\n",
       "      <td>&gt;=21</td>\n",
       "      <td>True</td>\n",
       "      <td>70.166241</td>\n",
       "    </tr>\n",
       "    <tr>\n",
       "      <th>1817</th>\n",
       "      <td>2875</td>\n",
       "      <td>&gt;=21</td>\n",
       "      <td>True</td>\n",
       "      <td>71.369120</td>\n",
       "    </tr>\n",
       "  </tbody>\n",
       "</table>\n",
       "</div>"
      ],
      "text/plain": [
       "      user_id   age  drinks_coffee     height\n",
       "2402     2874   <21           True  64.357154\n",
       "2864     3670  >=21           True  66.859636\n",
       "2167     7441   <21          False  66.659561\n",
       "507      2781  >=21           True  70.166241\n",
       "1817     2875  >=21           True  71.369120"
      ]
     },
     "execution_count": 3,
     "metadata": {},
     "output_type": "execute_result"
    }
   ],
   "source": [
    "coffee_red.head()"
   ]
  },
  {
   "cell_type": "code",
   "execution_count": 4,
   "metadata": {},
   "outputs": [
    {
     "data": {
      "text/plain": [
       "(119, 4)"
      ]
     },
     "execution_count": 4,
     "metadata": {},
     "output_type": "execute_result"
    }
   ],
   "source": [
    "mask = coffee_red[\"drinks_coffee\"] == True\n",
    "\n",
    "coffee_red[mask].shape "
   ]
  },
  {
   "cell_type": "markdown",
   "metadata": {},
   "source": [
    "The number of coffee drinkers is 119, while the number of non coffee drinkers is 81"
   ]
  },
  {
   "cell_type": "code",
   "execution_count": 5,
   "metadata": {},
   "outputs": [
    {
     "data": {
      "text/plain": [
       "0.595"
      ]
     },
     "execution_count": 5,
     "metadata": {},
     "output_type": "execute_result"
    }
   ],
   "source": [
    "prop_cof = coffee_red[mask].shape[0]/coffee_red.shape[0]\n",
    "\n",
    "prop_cof #proportion of coffee drinkers in the sample"
   ]
  },
  {
   "cell_type": "code",
   "execution_count": 6,
   "metadata": {},
   "outputs": [
    {
     "data": {
      "text/plain": [
       "0.589778076664425"
      ]
     },
     "execution_count": 6,
     "metadata": {},
     "output_type": "execute_result"
    }
   ],
   "source": [
    "mask2 = coffee_full[\"drinks_coffee\"] == True\n",
    "\n",
    "tot_prop_cof = coffee_full[mask2].shape[0]/coffee_full.shape[0]\n",
    "\n",
    "tot_prop_cof #proportion of coffee drinkers in the original population"
   ]
  },
  {
   "cell_type": "code",
   "execution_count": 7,
   "metadata": {},
   "outputs": [
    {
     "data": {
      "text/plain": [
       "68.11962990858618"
      ]
     },
     "execution_count": 7,
     "metadata": {},
     "output_type": "execute_result"
    }
   ],
   "source": [
    "mask = coffee_red[\"drinks_coffee\"] == True\n",
    "\n",
    "coffee_red.loc[mask,\"height\"].mean() #average height of coffee drinkers"
   ]
  },
  {
   "cell_type": "code",
   "execution_count": 8,
   "metadata": {},
   "outputs": [
    {
     "data": {
      "text/plain": [
       "66.78492279927877"
      ]
     },
     "execution_count": 8,
     "metadata": {},
     "output_type": "execute_result"
    }
   ],
   "source": [
    "coffee_red.loc[~mask,\"height\"].mean() #average height of NON coffee drinkers"
   ]
  },
  {
   "cell_type": "markdown",
   "metadata": {},
   "source": [
    "We are going to apply bootstraping in our sample in order to find the interval of the population parameter (proportion)"
   ]
  },
  {
   "cell_type": "code",
   "execution_count": 9,
   "metadata": {},
   "outputs": [
    {
     "data": {
      "text/html": [
       "<div>\n",
       "<style scoped>\n",
       "    .dataframe tbody tr th:only-of-type {\n",
       "        vertical-align: middle;\n",
       "    }\n",
       "\n",
       "    .dataframe tbody tr th {\n",
       "        vertical-align: top;\n",
       "    }\n",
       "\n",
       "    .dataframe thead th {\n",
       "        text-align: right;\n",
       "    }\n",
       "</style>\n",
       "<table border=\"1\" class=\"dataframe\">\n",
       "  <thead>\n",
       "    <tr style=\"text-align: right;\">\n",
       "      <th></th>\n",
       "      <th>user_id</th>\n",
       "      <th>age</th>\n",
       "      <th>drinks_coffee</th>\n",
       "      <th>height</th>\n",
       "    </tr>\n",
       "  </thead>\n",
       "  <tbody>\n",
       "    <tr>\n",
       "      <th>705</th>\n",
       "      <td>4350</td>\n",
       "      <td>&lt;21</td>\n",
       "      <td>False</td>\n",
       "      <td>68.812356</td>\n",
       "    </tr>\n",
       "    <tr>\n",
       "      <th>1868</th>\n",
       "      <td>5837</td>\n",
       "      <td>&gt;=21</td>\n",
       "      <td>True</td>\n",
       "      <td>71.655969</td>\n",
       "    </tr>\n",
       "    <tr>\n",
       "      <th>809</th>\n",
       "      <td>2779</td>\n",
       "      <td>&gt;=21</td>\n",
       "      <td>True</td>\n",
       "      <td>68.579454</td>\n",
       "    </tr>\n",
       "    <tr>\n",
       "      <th>93</th>\n",
       "      <td>2423</td>\n",
       "      <td>&gt;=21</td>\n",
       "      <td>True</td>\n",
       "      <td>69.540052</td>\n",
       "    </tr>\n",
       "    <tr>\n",
       "      <th>1872</th>\n",
       "      <td>3510</td>\n",
       "      <td>&lt;21</td>\n",
       "      <td>True</td>\n",
       "      <td>62.854094</td>\n",
       "    </tr>\n",
       "  </tbody>\n",
       "</table>\n",
       "</div>"
      ],
      "text/plain": [
       "      user_id   age  drinks_coffee     height\n",
       "705      4350   <21          False  68.812356\n",
       "1868     5837  >=21           True  71.655969\n",
       "809      2779  >=21           True  68.579454\n",
       "93       2423  >=21           True  69.540052\n",
       "1872     3510   <21           True  62.854094"
      ]
     },
     "execution_count": 9,
     "metadata": {},
     "output_type": "execute_result"
    }
   ],
   "source": [
    "bootstrap = coffee_red.sample(n=200,replace=True,random_state=42)\n",
    "\n",
    "bootstrap.head()"
   ]
  },
  {
   "cell_type": "code",
   "execution_count": 10,
   "metadata": {},
   "outputs": [
    {
     "data": {
      "text/plain": [
       "(200, 4)"
      ]
     },
     "execution_count": 10,
     "metadata": {},
     "output_type": "execute_result"
    }
   ],
   "source": [
    "bootstrap.shape"
   ]
  },
  {
   "cell_type": "code",
   "execution_count": 11,
   "metadata": {},
   "outputs": [
    {
     "data": {
      "text/plain": [
       "0.595"
      ]
     },
     "execution_count": 11,
     "metadata": {},
     "output_type": "execute_result"
    }
   ],
   "source": [
    "mask = bootstrap[\"drinks_coffee\"]==True\n",
    "\n",
    "bootstrap[mask].shape[0]/bootstrap.shape[0] #proportion of coffee drinkers in bootstrap sample"
   ]
  },
  {
   "cell_type": "code",
   "execution_count": 12,
   "metadata": {},
   "outputs": [],
   "source": [
    "#We will take 10000 samples using bootstraping in order to find the average height of coffee drinkers\n",
    "\n",
    "#bootstrapping\n",
    "\n",
    "samples_coffee_drinkers = []\n",
    "for _ in range(10000):\n",
    "    \n",
    "    bootstrap = coffee_red.sample(n=200,replace=True)\n",
    "    mask = bootstrap[\"drinks_coffee\"]==True\n",
    "\n",
    "    samples_coffee_drinkers.append(bootstrap.loc[mask,\"height\"].mean()) #mean height of each sample\n",
    "    "
   ]
  },
  {
   "cell_type": "code",
   "execution_count": 13,
   "metadata": {},
   "outputs": [],
   "source": [
    "#We will take 10000 samples using bootstraping in order to find the average height of non coffee drinkers\n",
    "\n",
    "#bootstrapping\n",
    "\n",
    "samples_non_coffee_drinkers = []\n",
    "for _ in range(10000):\n",
    "    \n",
    "    bootstrap = coffee_red.sample(n=200,replace=True)\n",
    "    mask = bootstrap[\"drinks_coffee\"]==False\n",
    "\n",
    "    samples_non_coffee_drinkers.append(bootstrap.loc[mask,\"height\"].mean()) #mean height of each sample"
   ]
  },
  {
   "cell_type": "code",
   "execution_count": 14,
   "metadata": {},
   "outputs": [
    {
     "data": {
      "image/png": "[encoded data removed]",
      "text/plain": [
       "<Figure size 432x288 with 1 Axes>"
      ]
     },
     "metadata": {
      "needs_background": "light"
     },
     "output_type": "display_data"
    }
   ],
   "source": [
    "import matplotlib.pyplot as plt\n",
    "\n",
    "plt.hist(samples_coffee_drinkers);"
   ]
  },
  {
   "cell_type": "code",
   "execution_count": 15,
   "metadata": {},
   "outputs": [
    {
     "data": {
      "text/plain": [
       "68.11685919065505"
      ]
     },
     "execution_count": 15,
     "metadata": {},
     "output_type": "execute_result"
    }
   ],
   "source": [
    "cof_np = np.asarray(samples_coffee_drinkers) #distribution of sampled mean heights\n",
    "cof_np.mean()"
   ]
  },
  {
   "cell_type": "markdown",
   "metadata": {},
   "source": [
    "The mean height of coffee drinkers of the original sample(coffee_red) is the same (almost) \n",
    "as the combined mean of all sampled height means "
   ]
  },
  {
   "cell_type": "code",
   "execution_count": 16,
   "metadata": {},
   "outputs": [
    {
     "data": {
      "text/plain": [
       "68.40021025548401"
      ]
     },
     "execution_count": 16,
     "metadata": {},
     "output_type": "execute_result"
    }
   ],
   "source": [
    "mask = coffee_full[\"drinks_coffee\"]==True\n",
    "\n",
    "coffee_full.loc[mask,\"height\"].mean()"
   ]
  },
  {
   "cell_type": "markdown",
   "metadata": {},
   "source": [
    "The mean of sampled mean heights is also really close to the mean height of the original population(coffee_full)"
   ]
  },
  {
   "cell_type": "code",
   "execution_count": 18,
   "metadata": {},
   "outputs": [
    {
     "data": {
      "image/png": "[encoded data removed]",
      "text/plain": [
       "<Figure size 432x288 with 1 Axes>"
      ]
     },
     "metadata": {
      "needs_background": "light"
     },
     "output_type": "display_data"
    }
   ],
   "source": [
    "plt.hist(samples_non_coffee_drinkers); #distribution of sampled mean heights"
   ]
  },
  {
   "cell_type": "code",
   "execution_count": 19,
   "metadata": {},
   "outputs": [
    {
     "data": {
      "text/plain": [
       "66.78942873687961"
      ]
     },
     "execution_count": 19,
     "metadata": {},
     "output_type": "execute_result"
    }
   ],
   "source": [
    "non_cof_np = np.asarray(samples_non_coffee_drinkers)\n",
    "non_cof_np.mean()"
   ]
  },
  {
   "cell_type": "markdown",
   "metadata": {},
   "source": [
    "The mean height of non coffee drinkers of the original sample(coffee_red) is the same (almost) \n",
    "as the combined mean of all sampled height means "
   ]
  },
  {
   "cell_type": "code",
   "execution_count": 20,
   "metadata": {},
   "outputs": [
    {
     "data": {
      "text/plain": [
       "66.44340776214705"
      ]
     },
     "execution_count": 20,
     "metadata": {},
     "output_type": "execute_result"
    }
   ],
   "source": [
    "mask = coffee_full[\"drinks_coffee\"]==False\n",
    "\n",
    "coffee_full.loc[mask,\"height\"].mean()"
   ]
  },
  {
   "cell_type": "markdown",
   "metadata": {},
   "source": [
    "The mean of sampled mean heights is also really close to the mean height of the original population(coffee_full)"
   ]
  },
  {
   "cell_type": "markdown",
   "metadata": {},
   "source": [
    "# IF WE PROVIDE AN INTERVAL FOR THE MEAN HEIGHT THAT WAS CALCULATED USING BOOTSTRAPING,\n",
    "\n",
    "# ITS APPROXIMATION OF THE MEAN HEIGHT OF THE ORIGINAL POPULATION WILL BE MORE ACCURATE"
   ]
  },
  {
   "cell_type": "code",
   "execution_count": 21,
   "metadata": {},
   "outputs": [
    {
     "data": {
      "text/plain": [
       "(67.640487640439, 68.57673511896196)"
      ]
     },
     "execution_count": 21,
     "metadata": {},
     "output_type": "execute_result"
    }
   ],
   "source": [
    "#condidence interval for the mean height of the smokers \n",
    "\n",
    "#they give us the location of the percentile we asked\n",
    "(np.percentile(cof_np,2.5),np.percentile(cof_np,97.5)) #95% confidence interval"
   ]
  },
  {
   "cell_type": "markdown",
   "metadata": {},
   "source": [
    "There is a 95% posibility that the population mean height will be between these 2 values \n",
    "\n",
    "The population mean height for smokers is 68.40021025548401 which is within the confidence interval"
   ]
  },
  {
   "cell_type": "code",
   "execution_count": 22,
   "metadata": {},
   "outputs": [
    {
     "data": {
      "text/plain": [
       "(66.00553304554545, 67.5973045839486)"
      ]
     },
     "execution_count": 22,
     "metadata": {},
     "output_type": "execute_result"
    }
   ],
   "source": [
    "#condidence interval for the mean height of the non smokers \n",
    "\n",
    "#they give us the location of the percentile we asked\n",
    "(np.percentile(non_cof_np,2.5),np.percentile(non_cof_np,97.5)) #95% confidence interval"
   ]
  },
  {
   "cell_type": "markdown",
   "metadata": {},
   "source": [
    "There is a 95% posibility that the population mean height will be between these 2 values \n",
    "\n",
    "The population mean height for non smokers is 66.44340776214705 which is within the confidence interval"
   ]
  },
  {
   "cell_type": "markdown",
   "metadata": {},
   "source": [
    "## THROUGH THE SAMPLING DISTRIBUTION WE CAN CALCULATE AN INTERVAL, IN WHICH OUR POPULATION PARAMETER IS GOING TO BE INSIDE"
   ]
  },
  {
   "cell_type": "code",
   "execution_count": null,
   "metadata": {},
   "outputs": [],
   "source": []
  },
  {
   "cell_type": "markdown",
   "metadata": {},
   "source": [
    "### The same methods can also be applied for difference in means"
   ]
  },
  {
   "cell_type": "code",
   "execution_count": 23,
   "metadata": {},
   "outputs": [],
   "source": [
    "#difference between the mean height of smokers and non smokers"
   ]
  },
  {
   "cell_type": "code",
   "execution_count": 24,
   "metadata": {},
   "outputs": [],
   "source": [
    "#bootstrapping\n",
    "\n",
    "samples_mean_height_dif = []\n",
    "for _ in range(10000):\n",
    "    \n",
    "    bootstrap = coffee_red.sample(n=200,replace=True)\n",
    "    mask = bootstrap[\"drinks_coffee\"]==True\n",
    "    \n",
    "    dif = bootstrap.loc[mask,\"height\"].mean() - bootstrap.loc[~mask,\"height\"].mean() #smoker avg height - non smoker avg \n",
    "\n",
    "    samples_mean_height_dif.append(dif) \n",
    "\n",
    "\n",
    "\n"
   ]
  },
  {
   "cell_type": "code",
   "execution_count": 25,
   "metadata": {},
   "outputs": [
    {
     "data": {
      "image/png": "[encoded data removed]",
      "text/plain": [
       "<Figure size 432x288 with 1 Axes>"
      ]
     },
     "metadata": {
      "needs_background": "light"
     },
     "output_type": "display_data"
    }
   ],
   "source": [
    "plt.hist(samples_mean_height_dif); #distribution of sampled mean height difference"
   ]
  },
  {
   "cell_type": "code",
   "execution_count": 26,
   "metadata": {},
   "outputs": [
    {
     "data": {
      "text/plain": [
       "(0.1358991520647377, 2.563453685977798)"
      ]
     },
     "execution_count": 26,
     "metadata": {},
     "output_type": "execute_result"
    }
   ],
   "source": [
    "#99% condidence interval for the mean difference of the height\n",
    "\n",
    "#they give us the location of the percentile we asked\n",
    "(np.percentile(samples_mean_height_dif,0.5),np.percentile(samples_mean_height_dif,99.5)) #99% confidence interval"
   ]
  },
  {
   "cell_type": "markdown",
   "metadata": {},
   "source": [
    "There is a 0.99 prob that the difference between the mean height of smokers and mean height of non smokers will be between the range (0.1358991520647377, 2.563453685977798)"
   ]
  },
  {
   "cell_type": "code",
   "execution_count": 27,
   "metadata": {},
   "outputs": [],
   "source": [
    "#As it can be seen, the average height of a smoker is bigger than the average height of a non smoker"
   ]
  },
  {
   "cell_type": "code",
   "execution_count": null,
   "metadata": {},
   "outputs": [],
   "source": []
  },
  {
   "cell_type": "code",
   "execution_count": null,
   "metadata": {},
   "outputs": [],
   "source": [
    "#difference in height between people over 21 and bellow 21"
   ]
  },
  {
   "cell_type": "code",
   "execution_count": 29,
   "metadata": {},
   "outputs": [
    {
     "data": {
      "text/plain": [
       "array(['<21', '>=21'], dtype=object)"
      ]
     },
     "execution_count": 29,
     "metadata": {},
     "output_type": "execute_result"
    }
   ],
   "source": [
    "coffee_red[\"age\"].unique()"
   ]
  },
  {
   "cell_type": "code",
   "execution_count": 30,
   "metadata": {},
   "outputs": [],
   "source": [
    "#bootstrapping\n",
    "\n",
    "samples_mean_height_dif = []\n",
    "for _ in range(10000):\n",
    "    \n",
    "    bootstrap = coffee_red.sample(n=200,replace=True)\n",
    "    mask = bootstrap[\"age\"]== \">=21\"\n",
    "    \n",
    "    dif = bootstrap.loc[mask,\"height\"].mean() - bootstrap.loc[~mask,\"height\"].mean() #above 21 avg height - bellow 21 avg \n",
    "\n",
    "    samples_mean_height_dif.append(dif) \n"
   ]
  },
  {
   "cell_type": "code",
   "execution_count": 31,
   "metadata": {},
   "outputs": [
    {
     "data": {
      "image/png": "[encoded data removed]",
      "text/plain": [
       "<Figure size 432x288 with 1 Axes>"
      ]
     },
     "metadata": {
      "needs_background": "light"
     },
     "output_type": "display_data"
    }
   ],
   "source": [
    "plt.hist(samples_mean_height_dif); #distribution of sampled mean height difference"
   ]
  },
  {
   "cell_type": "code",
   "execution_count": 32,
   "metadata": {},
   "outputs": [
    {
     "data": {
      "text/plain": [
       "(3.384624971838698, 5.105178892537329)"
      ]
     },
     "execution_count": 32,
     "metadata": {},
     "output_type": "execute_result"
    }
   ],
   "source": [
    "#99% condidence interval for the mean difference of the height\n",
    "\n",
    "#they give us the location of the percentile we asked\n",
    "(np.percentile(samples_mean_height_dif,0.5),np.percentile(samples_mean_height_dif,99.5)) #99% confidence interval"
   ]
  },
  {
   "cell_type": "markdown",
   "metadata": {},
   "source": [
    "There is a 0.99 prob that the difference between the mean heights of people over 21 and bellow (over21-bellow21) will be in that interval\n",
    "\n",
    "Furthermore, it safe to assume that people over 21 are taller than people bellow 21 on average"
   ]
  },
  {
   "cell_type": "code",
   "execution_count": null,
   "metadata": {},
   "outputs": [],
   "source": []
  },
  {
   "cell_type": "code",
   "execution_count": null,
   "metadata": {},
   "outputs": [],
   "source": [
    "#For people over 21, compare the mean height difference of smokers and non smokers"
   ]
  },
  {
   "cell_type": "code",
   "execution_count": 38,
   "metadata": {},
   "outputs": [],
   "source": [
    "#bootstrapping\n",
    "\n",
    "samples_mean_height_dif = []\n",
    "for _ in range(10000):\n",
    "    \n",
    "    bootstrap = coffee_red.sample(n=200,replace=True)\n",
    "    mask1 = bootstrap[\"age\"] == \">=21\"\n",
    "    mask2 = bootstrap[\"drinks_coffee\"] == True\n",
    "    mask = mask1&mask2 #coffee drinkers\n",
    "    maskn = mask1&(~mask2)\n",
    "    \n",
    "    dif = bootstrap.loc[maskn,\"height\"].mean() - bootstrap.loc[mask,\"height\"].mean() \n",
    "    #avg height of non smokers above 21 - avg height of smokers above 21\n",
    "\n",
    "    samples_mean_height_dif.append(dif) \n"
   ]
  },
  {
   "cell_type": "code",
   "execution_count": 39,
   "metadata": {},
   "outputs": [
    {
     "data": {
      "image/png": "[encoded data removed]",
      "text/plain": [
       "<Figure size 432x288 with 1 Axes>"
      ]
     },
     "metadata": {
      "needs_background": "light"
     },
     "output_type": "display_data"
    }
   ],
   "source": [
    "plt.hist(samples_mean_height_dif); #distribution of sampled mean height difference"
   ]
  },
  {
   "cell_type": "code",
   "execution_count": 40,
   "metadata": {},
   "outputs": [
    {
     "data": {
      "text/plain": [
       "(1.8112701857664477, 4.380581425738178)"
      ]
     },
     "execution_count": 40,
     "metadata": {},
     "output_type": "execute_result"
    }
   ],
   "source": [
    "#condidence interval \n",
    "\n",
    "#they give us the location of the percentile we asked\n",
    "(np.percentile(samples_mean_height_dif,2.5),np.percentile(samples_mean_height_dif,97.5)) #95% confidence interval"
   ]
  },
  {
   "cell_type": "code",
   "execution_count": null,
   "metadata": {},
   "outputs": [],
   "source": [
    "#It is safe to assume that for people over 21 the non smokers are on average taller than smokers"
   ]
  },
  {
   "cell_type": "code",
   "execution_count": null,
   "metadata": {},
   "outputs": [],
   "source": []
  },
  {
   "cell_type": "code",
   "execution_count": 41,
   "metadata": {},
   "outputs": [],
   "source": [
    "#bootstrapping\n",
    "\n",
    "samples_mean_height_dif = []\n",
    "for _ in range(10000):\n",
    "    \n",
    "    bootstrap = coffee_red.sample(n=200,replace=True)\n",
    "    mask1 = bootstrap[\"age\"] == \"<21\"\n",
    "    mask2 = bootstrap[\"drinks_coffee\"] == True\n",
    "    mask = mask1&mask2 #coffee drinkers\n",
    "    maskn = mask1&(~mask2)\n",
    "    \n",
    "    dif = bootstrap.loc[maskn,\"height\"].mean() - bootstrap.loc[mask,\"height\"].mean() \n",
    "    #avg height of non smokers above 21 - avg height of smokers above 21\n",
    "\n",
    "    samples_mean_height_dif.append(dif) "
   ]
  },
  {
   "cell_type": "code",
   "execution_count": 42,
   "metadata": {},
   "outputs": [
    {
     "data": {
      "image/png": "[encoded data removed]",
      "text/plain": [
       "<Figure size 432x288 with 1 Axes>"
      ]
     },
     "metadata": {
      "needs_background": "light"
     },
     "output_type": "display_data"
    }
   ],
   "source": [
    "plt.hist(samples_mean_height_dif); #distribution of sampled mean height difference"
   ]
  },
  {
   "cell_type": "code",
   "execution_count": 43,
   "metadata": {},
   "outputs": [
    {
     "data": {
      "text/plain": [
       "(1.08866520346426, 2.6207554352667426)"
      ]
     },
     "execution_count": 43,
     "metadata": {},
     "output_type": "execute_result"
    }
   ],
   "source": [
    "#condidence interval \n",
    "\n",
    "#they give us the location of the percentile we asked\n",
    "(np.percentile(samples_mean_height_dif,2.5),np.percentile(samples_mean_height_dif,97.5)) #95% confidence interval"
   ]
  },
  {
   "cell_type": "code",
   "execution_count": 44,
   "metadata": {},
   "outputs": [],
   "source": [
    "#It is safe to assume that for people over 21 the non smokers are on average taller than smokers"
   ]
  },
  {
   "cell_type": "code",
   "execution_count": null,
   "metadata": {},
   "outputs": [],
   "source": []
  },
  {
   "cell_type": "markdown",
   "metadata": {},
   "source": [
    "# Simpson's Paradox"
   ]
  },
  {
   "cell_type": "markdown",
   "metadata": {},
   "source": [
    "Within the under 21 and over 21 groups, we saw that on average non-coffee drinkers were taller.  But, when combined, we saw that on average coffee drinkers were on average taller.  This is again **Simpson's paradox**, and essentially there are more adults in the dataset who were coffee drinkers.  So these individuals made it seem like coffee drinkers were on average taller - which is a misleading result.  "
   ]
  },
  {
   "cell_type": "code",
   "execution_count": 47,
   "metadata": {},
   "outputs": [
    {
     "data": {
      "text/plain": [
       ">=21    106\n",
       "<21      94\n",
       "Name: age, dtype: int64"
      ]
     },
     "execution_count": 47,
     "metadata": {},
     "output_type": "execute_result"
    }
   ],
   "source": [
    "coffee_red[\"age\"].value_counts()"
   ]
  },
  {
   "cell_type": "code",
   "execution_count": 48,
   "metadata": {},
   "outputs": [
    {
     "data": {
      "text/plain": [
       "True     119\n",
       "False     81\n",
       "Name: drinks_coffee, dtype: int64"
      ]
     },
     "execution_count": 48,
     "metadata": {},
     "output_type": "execute_result"
    }
   ],
   "source": [
    "coffee_red[\"drinks_coffee\"].value_counts()"
   ]
  },
  {
   "cell_type": "code",
   "execution_count": null,
   "metadata": {},
   "outputs": [],
   "source": []
  },
  {
   "cell_type": "code",
   "execution_count": null,
   "metadata": {},
   "outputs": [],
   "source": []
  },
  {
   "cell_type": "code",
   "execution_count": null,
   "metadata": {},
   "outputs": [],
   "source": []
  },
  {
   "cell_type": "code",
   "execution_count": null,
   "metadata": {},
   "outputs": [],
   "source": []
  },
  {
   "cell_type": "code",
   "execution_count": null,
   "metadata": {},
   "outputs": [],
   "source": []
  }
 ],
 "metadata": {
  "kernelspec": {
   "display_name": "Python 3",
   "language": "python",
   "name": "python3"
  },
  "language_info": {
   "codemirror_mode": {
    "name": "ipython",
    "version": 3
   },
   "file_extension": ".py",
   "mimetype": "text/x-python",
   "name": "python",
   "nbconvert_exporter": "python",
   "pygments_lexer": "ipython3",
   "version": "3.7.6"
  }
 },
 "nbformat": 4,
 "nbformat_minor": 4
}
